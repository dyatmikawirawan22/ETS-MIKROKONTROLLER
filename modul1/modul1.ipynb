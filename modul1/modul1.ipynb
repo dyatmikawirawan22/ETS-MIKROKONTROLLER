{
 "cells": [
  {
   "cell_type": "code",
   "execution_count": null,
   "id": "00d776c7-f608-447e-a1af-55b6295277eb",
   "metadata": {},
   "outputs": [],
   "source": []
  }
 ],
 "metadata": {
  "kernelspec": {
   "display_name": "",
   "name": ""
  },
  "language_info": {
   "name": ""
  }
 },
 "nbformat": 4,
 "nbformat_minor": 5
}
