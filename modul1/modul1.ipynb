{
 "cells": [
  {
   "cell_type": "code",
   "execution_count": 1,
   "id": "00d776c7-f608-447e-a1af-55b6295277eb",
   "metadata": {},
   "outputs": [
    {
     "name": "stdout",
     "output_type": "stream",
     "text": [
      "Collecting pyserial\n",
      "  Using cached pyserial-3.5-py2.py3-none-any.whl.metadata (1.6 kB)\n",
      "Using cached pyserial-3.5-py2.py3-none-any.whl (90 kB)\n",
      "Installing collected packages: pyserial\n",
      "Successfully installed pyserial-3.5\n"
     ]
    }
   ],
   "source": [
    "!pip install pyserial"
   ]
  },
  {
   "cell_type": "code",
   "execution_count": null,
   "id": "d1e34da7-5eb5-461d-98c2-81e4ade127c8",
   "metadata": {},
   "outputs": [
    {
     "name": "stdin",
     "output_type": "stream",
     "text": [
      "Kirimkan perintah (1/0):  1\n",
      "Kirimkan perintah (1/0):  0\n"
     ]
    }
   ],
   "source": [
    "import serial\n",
    "#arduinoData = serial.Serial('/dev/ttyACM1', 9600)\n",
    "arduinoData = serial.Serial('COM5', 115200, timeout=0)\n",
    "\n",
    "while True:\n",
    "    myData = input('Kirimkan perintah (1/0): ')  \n",
    "    if myData == \"1\":\n",
    "        arduinoData.write(b'1')\n",
    "    elif myData == \"0\":  \n",
    "        arduinoData.write(b'0')"
   ]
  },
  {
   "cell_type": "code",
   "execution_count": null,
   "id": "33e30650-87af-42d8-8c04-87106c4084fc",
   "metadata": {},
   "outputs": [],
   "source": []
  }
 ],
 "metadata": {
  "kernelspec": {
   "display_name": "Python 3 (ipykernel)",
   "language": "python",
   "name": "python3"
  },
  "language_info": {
   "codemirror_mode": {
    "name": "ipython",
    "version": 3
   },
   "file_extension": ".py",
   "mimetype": "text/x-python",
   "name": "python",
   "nbconvert_exporter": "python",
   "pygments_lexer": "ipython3",
   "version": "3.14.0"
  }
 },
 "nbformat": 4,
 "nbformat_minor": 5
}
